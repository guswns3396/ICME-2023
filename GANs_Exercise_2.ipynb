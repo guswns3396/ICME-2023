{
  "nbformat": 4,
  "nbformat_minor": 0,
  "metadata": {
    "colab": {
      "provenance": [],
      "include_colab_link": true
    },
    "kernelspec": {
      "name": "python3",
      "display_name": "Python 3"
    },
    "language_info": {
      "name": "python"
    },
    "gpuClass": "standard",
    "accelerator": "GPU"
  },
  "cells": [
    {
      "cell_type": "markdown",
      "metadata": {
        "id": "view-in-github",
        "colab_type": "text"
      },
      "source": [
        "<a href=\"https://colab.research.google.com/github/guswns3396/ICME-2023/blob/main/GANs_Exercise_2.ipynb\" target=\"_parent\"><img src=\"https://colab.research.google.com/assets/colab-badge.svg\" alt=\"Open In Colab\"/></a>"
      ]
    },
    {
      "cell_type": "code",
      "execution_count": null,
      "metadata": {
        "id": "I7FtdXFZC7xH"
      },
      "outputs": [],
      "source": [
        "import torch\n",
        "import torch.nn as nn\n",
        "import torch.nn.functional as F\n",
        "from torch.utils.data import TensorDataset, DataLoader\n",
        "from torch.optim import Adam, SGD\n",
        "\n",
        "import torchvision\n",
        "from torchvision.datasets import MNIST #CIFAR10\n",
        "import torchvision.transforms as transforms\n",
        "\n",
        "import numpy as np\n",
        "import matplotlib.pyplot as plt"
      ]
    },
    {
      "cell_type": "code",
      "source": [
        "def get_device():\n",
        "  if torch.cuda.is_available():\n",
        "    return torch.device('cuda')\n",
        "  else:\n",
        "    return torch.device('cpu')"
      ],
      "metadata": {
        "id": "Zx9j07hhbNec"
      },
      "execution_count": null,
      "outputs": []
    },
    {
      "cell_type": "code",
      "source": [
        "device = get_device()\n",
        "print(f\"Device: {device}\")"
      ],
      "metadata": {
        "id": "HNB3b_gZb6mj",
        "outputId": "adfdca67-062f-4d64-e606-d5cf34ed0228",
        "colab": {
          "base_uri": "https://localhost:8080/"
        }
      },
      "execution_count": null,
      "outputs": [
        {
          "output_type": "stream",
          "name": "stdout",
          "text": [
            "Device: cuda\n"
          ]
        }
      ]
    },
    {
      "cell_type": "code",
      "source": [
        "data_transform = transforms.Compose([transforms.ToTensor(),\n",
        "                                     transforms.Normalize((0.5,), (0.5,))])"
      ],
      "metadata": {
        "id": "lEPxMLLVDLxF"
      },
      "execution_count": null,
      "outputs": []
    },
    {
      "cell_type": "code",
      "source": [
        "train_data = MNIST(root = 'data/', train=True, download=True, transform=data_transform)\n",
        "val_data = MNIST(root = 'data/', train=False, download=True, transform=data_transform)"
      ],
      "metadata": {
        "id": "HMlWxhebRPqh",
        "outputId": "c7205d44-71c8-4742-f1c0-bddfe6b47c70",
        "colab": {
          "base_uri": "https://localhost:8080/"
        }
      },
      "execution_count": null,
      "outputs": [
        {
          "output_type": "stream",
          "name": "stdout",
          "text": [
            "Downloading http://yann.lecun.com/exdb/mnist/train-images-idx3-ubyte.gz\n",
            "Downloading http://yann.lecun.com/exdb/mnist/train-images-idx3-ubyte.gz to data/MNIST/raw/train-images-idx3-ubyte.gz\n"
          ]
        },
        {
          "output_type": "stream",
          "name": "stderr",
          "text": [
            "100%|██████████| 9912422/9912422 [00:00<00:00, 88462724.47it/s]\n"
          ]
        },
        {
          "output_type": "stream",
          "name": "stdout",
          "text": [
            "Extracting data/MNIST/raw/train-images-idx3-ubyte.gz to data/MNIST/raw\n",
            "\n",
            "Downloading http://yann.lecun.com/exdb/mnist/train-labels-idx1-ubyte.gz\n",
            "Downloading http://yann.lecun.com/exdb/mnist/train-labels-idx1-ubyte.gz to data/MNIST/raw/train-labels-idx1-ubyte.gz\n"
          ]
        },
        {
          "output_type": "stream",
          "name": "stderr",
          "text": [
            "100%|██████████| 28881/28881 [00:00<00:00, 3620962.93it/s]\n"
          ]
        },
        {
          "output_type": "stream",
          "name": "stdout",
          "text": [
            "Extracting data/MNIST/raw/train-labels-idx1-ubyte.gz to data/MNIST/raw\n",
            "\n",
            "Downloading http://yann.lecun.com/exdb/mnist/t10k-images-idx3-ubyte.gz\n",
            "Downloading http://yann.lecun.com/exdb/mnist/t10k-images-idx3-ubyte.gz to data/MNIST/raw/t10k-images-idx3-ubyte.gz\n"
          ]
        },
        {
          "output_type": "stream",
          "name": "stderr",
          "text": [
            "100%|██████████| 1648877/1648877 [00:00<00:00, 24963061.58it/s]\n"
          ]
        },
        {
          "output_type": "stream",
          "name": "stdout",
          "text": [
            "Extracting data/MNIST/raw/t10k-images-idx3-ubyte.gz to data/MNIST/raw\n",
            "\n",
            "Downloading http://yann.lecun.com/exdb/mnist/t10k-labels-idx1-ubyte.gz\n",
            "Downloading http://yann.lecun.com/exdb/mnist/t10k-labels-idx1-ubyte.gz to data/MNIST/raw/t10k-labels-idx1-ubyte.gz\n"
          ]
        },
        {
          "output_type": "stream",
          "name": "stderr",
          "text": [
            "100%|██████████| 4542/4542 [00:00<00:00, 16035798.63it/s]"
          ]
        },
        {
          "output_type": "stream",
          "name": "stdout",
          "text": [
            "Extracting data/MNIST/raw/t10k-labels-idx1-ubyte.gz to data/MNIST/raw\n",
            "\n"
          ]
        },
        {
          "output_type": "stream",
          "name": "stderr",
          "text": [
            "\n"
          ]
        }
      ]
    },
    {
      "cell_type": "code",
      "source": [
        "data = torch.utils.data.ConcatDataset([train_data, val_data])"
      ],
      "metadata": {
        "id": "fdA0-241lLr3"
      },
      "execution_count": null,
      "outputs": []
    },
    {
      "cell_type": "code",
      "source": [
        "len(data)"
      ],
      "metadata": {
        "id": "2FTRpc8ZlmbM"
      },
      "execution_count": null,
      "outputs": []
    },
    {
      "cell_type": "code",
      "source": [
        "data_loader = DataLoader(data, batch_size= 64, shuffle=True)"
      ],
      "metadata": {
        "id": "maXIK72QSBy3"
      },
      "execution_count": null,
      "outputs": []
    },
    {
      "cell_type": "code",
      "source": [
        "def denorm(images, means=0.5, stds=0.5):\n",
        "  images_standard = (images*stds)+means\n",
        "  return images_standard"
      ],
      "metadata": {
        "id": "d5GFAUz_RhKn"
      },
      "execution_count": null,
      "outputs": []
    },
    {
      "cell_type": "code",
      "source": [
        "for xb, yb in data_loader:\n",
        "  print(xb.shape)\n",
        "  print(yb.shape)\n",
        "  break"
      ],
      "metadata": {
        "id": "KRPDCyHER6F9",
        "outputId": "0750406a-c0d7-4b3c-ad25-430aa483a9cc",
        "colab": {
          "base_uri": "https://localhost:8080/"
        }
      },
      "execution_count": null,
      "outputs": [
        {
          "output_type": "stream",
          "name": "stdout",
          "text": [
            "torch.Size([64, 1, 28, 28])\n",
            "torch.Size([64])\n"
          ]
        }
      ]
    },
    {
      "cell_type": "code",
      "source": [
        "def plot_images(xb):\n",
        "  grid_img = torchvision.utils.make_grid(denorm(xb), nrow=8)\n",
        "  plt.figure(figsize=(12,12))\n",
        "  plt.imshow(grid_img.permute(1,2,0))\n"
      ],
      "metadata": {
        "id": "p2Fr8H-eSPNb"
      },
      "execution_count": null,
      "outputs": []
    },
    {
      "cell_type": "code",
      "source": [
        "plot_images(xb)"
      ],
      "metadata": {
        "id": "PO8D0s18SgVq",
        "outputId": "fa8aab9e-8713-467a-de16-3fa8ae93fa22",
        "colab": {
          "base_uri": "https://localhost:8080/",
          "height": 988
        }
      },
      "execution_count": null,
      "outputs": [
        {
          "output_type": "display_data",
          "data": {
            "text/plain": [
              "<Figure size 1200x1200 with 1 Axes>"
            ],
            "image/png": "[encoded data removed]"
          },
          "metadata": {}
        }
      ]
    },
    {
      "cell_type": "code",
      "source": [
        "class DiscriminatorModel(nn.Module):\n",
        "    def __init__(self, in_channels=1, hidden_dim=16):\n",
        "        super().__init__()\n",
        "        self.network = nn.Sequential(\n",
        "\n",
        "                nn.Conv2d(in_channels, hidden_dim, 4, 2),\n",
        "                nn.BatchNorm2d(hidden_dim),\n",
        "                nn.LeakyReLU(0.2, inplace=True),\n",
        "\n",
        "                nn.Conv2d(hidden_dim, hidden_dim * 2, 4, 2),\n",
        "                nn.BatchNorm2d(hidden_dim* 2),\n",
        "                nn.LeakyReLU(0.2, inplace=True),\n",
        "\n",
        "                nn.Conv2d(hidden_dim * 2, 1, 4, 2)\n",
        "            )\n",
        "    def forward(self, input):\n",
        "        output = self.network(input)\n",
        "        return output.view(-1, 1).squeeze(1)"
      ],
      "metadata": {
        "id": "PLzPI5DMUVvH"
      },
      "execution_count": null,
      "outputs": []
    },
    {
      "cell_type": "code",
      "source": [
        "nn.BatchNorm2d?"
      ],
      "metadata": {
        "id": "BRnRGwnby773"
      },
      "execution_count": null,
      "outputs": []
    },
    {
      "cell_type": "code",
      "source": [
        "discriminator = DiscriminatorModel(1, 64)\n",
        "temp = discriminator(xb)\n",
        "print(temp.shape)"
      ],
      "metadata": {
        "id": "oPl8e271eU25",
        "colab": {
          "base_uri": "https://localhost:8080/"
        },
        "outputId": "6608cafc-8a26-430c-cc05-eb22b06a61ef"
      },
      "execution_count": null,
      "outputs": [
        {
          "output_type": "stream",
          "name": "stdout",
          "text": [
            "torch.Size([64])\n"
          ]
        }
      ]
    },
    {
      "cell_type": "code",
      "source": [
        "latent_dimension = 64"
      ],
      "metadata": {
        "id": "e0HhSHHPxWrp"
      },
      "execution_count": null,
      "outputs": []
    },
    {
      "cell_type": "code",
      "source": [
        "class GeneratorModel(nn.Module):\n",
        "    def __init__(self, latent_dim=latent_dimension, hidden_dim=64, out_channels=1):\n",
        "      super().__init__()\n",
        "      self.network = nn.Sequential(\n",
        "          nn.ConvTranspose2d(latent_dim, hidden_dim*4, 3, 2),\n",
        "          nn.BatchNorm2d(hidden_dim*4),\n",
        "          nn.ReLU(inplace=True),\n",
        "\n",
        "          nn.ConvTranspose2d(hidden_dim*4, hidden_dim*2, 4, 1),\n",
        "          nn.BatchNorm2d(hidden_dim*2),\n",
        "          nn.ReLU(inplace=True),\n",
        "\n",
        "          nn.ConvTranspose2d(hidden_dim*2, hidden_dim, 3, 2),\n",
        "          nn.BatchNorm2d(hidden_dim),\n",
        "          nn.ReLU(inplace=True),\n",
        "\n",
        "          nn.ConvTranspose2d(hidden_dim, out_channels, 4, 2),\n",
        "          nn.Tanh()\n",
        "      )\n",
        "\n",
        "    def forward(self, input):\n",
        "      output = self.network(input)\n",
        "      return output"
      ],
      "metadata": {
        "id": "JLKDAyPLeguO"
      },
      "execution_count": null,
      "outputs": []
    },
    {
      "cell_type": "code",
      "source": [
        "generator = GeneratorModel()\n",
        "test_vec = torch.randn((10,latent_dimension,1,1)) #batch_size, channels, height, width\n",
        "temp = generator(test_vec)\n",
        "print(temp.shape)"
      ],
      "metadata": {
        "id": "FeAxL8otyPgP"
      },
      "execution_count": null,
      "outputs": []
    },
    {
      "cell_type": "code",
      "source": [
        "batched_test_vector = torch.randn((64,64,1,1))\n",
        "test_images = generator(batched_test_vector)\n",
        "plot_images(test_images)"
      ],
      "metadata": {
        "id": "NPYoWfwiyjdo"
      },
      "execution_count": null,
      "outputs": []
    },
    {
      "cell_type": "code",
      "source": [
        "def discriminator_training_step(real_images, disc_opt):\n",
        "  num = real_images.shape[0]\n",
        "  criterion = torch.nn.BCEWithLogitsLoss()\n",
        "  disc_opt.zero_grad()\n",
        "\n",
        "\n",
        "  real_targets = torch.ones(num, device=device)\n",
        "  real_predictions = discriminator(real_images)\n",
        "  real_loss = criterion(real_predictions, real_targets)\n",
        "\n",
        "\n",
        "  batched_random_vector = torch.randn((num, latent_dimension,1,1), device=device)\n",
        "  fake_images = generator(batched_random_vector)\n",
        "  fake_targets = torch.zeros(num, device=device)\n",
        "  fake_predictions = discriminator(fake_images)\n",
        "  fake_loss = criterion(fake_predictions, fake_targets)\n",
        "\n",
        "  loss = real_loss + fake_loss\n",
        "  loss.backward()\n",
        "  disc_opt.step()\n",
        "\n",
        "  return loss.detach().item()"
      ],
      "metadata": {
        "id": "Y9PTgGnk06W7"
      },
      "execution_count": null,
      "outputs": []
    },
    {
      "cell_type": "code",
      "source": [
        "def generator_training_step(gen_opt, batch_size=64):\n",
        "  criterion = torch.nn.BCEWithLogitsLoss()\n",
        "  gen_opt.zero_grad()\n",
        "\n",
        "  batched_random_vector = torch.randn((batch_size, latent_dimension,1,1), device=device)\n",
        "  fake_images = generator(batched_random_vector)\n",
        "  targets = torch.ones(batch_size, device=device)\n",
        "  predictions = discriminator(fake_images)\n",
        "  loss = criterion(predictions, targets)\n",
        "\n",
        "  loss.backward()\n",
        "  gen_opt.step()\n",
        "\n",
        "  return loss.detach().item()"
      ],
      "metadata": {
        "id": "QVmr4DRn3Pov"
      },
      "execution_count": null,
      "outputs": []
    },
    {
      "cell_type": "code",
      "source": [
        "def weights_init(m):\n",
        "    classname = m.__class__.__name__\n",
        "    if classname.find('Conv') != -1:\n",
        "        nn.init.normal_(m.weight.data, 0.0, 0.02)\n",
        "    elif classname.find('BatchNorm') != -1:\n",
        "        nn.init.normal_(m.weight.data, 1.0, 0.02)\n",
        "        nn.init.constant_(m.bias.data, 0)"
      ],
      "metadata": {
        "id": "WDX8FExmZQim"
      },
      "execution_count": null,
      "outputs": []
    },
    {
      "cell_type": "code",
      "source": [
        "def train_models(epochs=50, lr=0.0002):\n",
        "  gen_opt = torch.optim.Adam(generator.parameters(), lr=lr, betas = (0.5, 0.999))\n",
        "  disc_opt = torch.optim.Adam(discriminator.parameters(), lr=lr, betas = (0.5, 0.999))\n",
        "\n",
        "\n",
        "  for epoch in range(epochs):\n",
        "    gen_losses = []\n",
        "    disc_losses = []\n",
        "\n",
        "    for real_images, _ in data_loader:\n",
        "      real_images = real_images.to(device)\n",
        "      disc_loss = discriminator_training_step(real_images, disc_opt)\n",
        "      gen_loss = generator_training_step(gen_opt)\n",
        "\n",
        "      gen_losses.append(gen_loss)\n",
        "      disc_losses.append(disc_loss)\n",
        "\n",
        "    gen_epoch_loss = torch.tensor(gen_losses).mean().item()\n",
        "    disc_epoch_loss = torch.tensor(disc_losses).mean().item()\n",
        "\n",
        "    print(F\"Epoch: {epoch+1} \\t Disc Loss: {disc_epoch_loss} \\t Gen Loss: {gen_epoch_loss}\")\n",
        "\n",
        "    generator.eval()\n",
        "    fake_images = generator(fixed_random_vector)\n",
        "    grid_img = torchvision.utils.make_grid(denorm(fake_images.detach().cpu()), nrow=8)\n",
        "    plt.figure(figsize=(8,8))\n",
        "    plt.imshow(grid_img.permute(1,2,0))\n",
        "    plt.show()\n",
        "    generator.train()"
      ],
      "metadata": {
        "id": "kanWLI197D6x"
      },
      "execution_count": null,
      "outputs": []
    },
    {
      "cell_type": "code",
      "source": [
        "fixed_random_vector = torch.randn((64, latent_dimension,1,1), device=device)\n",
        "generator = GeneratorModel().to(device)\n",
        "generator.apply(weights_init)\n",
        "discriminator = DiscriminatorModel().to(device)\n",
        "discriminator.apply(weights_init)"
      ],
      "metadata": {
        "id": "Tp_dHlfM4jlD"
      },
      "execution_count": null,
      "outputs": []
    },
    {
      "cell_type": "code",
      "source": [
        "train_models(epochs=50)"
      ],
      "metadata": {
        "id": "VxunxbNQ6lcY"
      },
      "execution_count": null,
      "outputs": []
    },
    {
      "cell_type": "code",
      "source": [],
      "metadata": {
        "id": "-euG7CVx9h8M"
      },
      "execution_count": null,
      "outputs": []
    },
    {
      "cell_type": "markdown",
      "source": [
        "## Exercise\n",
        "\n",
        "I had assumed that a latent dimension of 64 would suffice. However, this may not be optimal. Too low a latent dimension, and you're choking your model's power. Too high and you're wasting computation.\n",
        "\n",
        "In this exercise, I invite you to try to find a better dimension of the latent space. I would try dimensions of 32 and then 128, but you can make these decisions. Please remember, *if you change your latent dimension, you will have to make changes to your generator*...or you final output will not have the right shape (in this case, (1, 28, 28))."
      ],
      "metadata": {
        "id": "dqQazHgxkHkv"
      }
    },
    {
      "cell_type": "code",
      "source": [],
      "metadata": {
        "id": "8Tx1n-emkJFV"
      },
      "execution_count": null,
      "outputs": []
    }
  ]
}